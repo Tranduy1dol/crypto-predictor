{
 "cells": [
  {
   "metadata": {},
   "cell_type": "code",
   "outputs": [],
   "execution_count": null,
   "source": "from binance.spot import Spot as Client"
  },
  {
   "metadata": {},
   "cell_type": "code",
   "outputs": [],
   "execution_count": null,
   "source": [
    "client = Client(\"JLCON0ZJ9v4zX595o2W1rlvSIhIercTu2ugNLCMPZ88QAt8zvSe2vY3LDiiRjKMB\",\n",
    "                \"JMnozKSUlep8mBrXCW1b7mAdHDl5qcYv3GDfNOquyifCdbD4QmGXILR9A5V0FgKf\",\n",
    "                base_url=\"https://testnet.binance.vision\",\n",
    "                )"
   ]
  },
  {
   "metadata": {},
   "cell_type": "code",
   "outputs": [],
   "execution_count": null,
   "source": [
    "def balance_of(client, symbol):\n",
    "    account = Client.account(self=client)\n",
    "\n",
    "    balances = account['balances']\n",
    "\n",
    "    for balance in balances:\n",
    "        if balance['asset'] == symbol:\n",
    "            return float(balance['free'])\n",
    "\n",
    "\n",
    "# #Check Order\n",
    "def check_order(symbol, side):\n",
    "    check = False\n",
    "    order = client.get_orders(symbol=symbol, limit=1)\n",
    "\n",
    "    if order:\n",
    "        last_order = order[0]\n",
    "        if last_order['status'] == 'FILLED':\n",
    "            check = True\n",
    "            return check\n",
    "\n",
    "        else:\n",
    "            check = False\n",
    "            return check\n",
    "\n",
    "\n",
    "#Take Buy Order\n",
    "def take_buy_order(symbol, quantity):\n",
    "    symbol = f\"{symbol}USDT\"\n",
    "\n",
    "    order = client.new_order(symbol=symbol, quantity=quantity, side='BUY', type='MARKET')\n",
    "\n",
    "\n",
    "def take_sell_order(symbol, quantity):\n",
    "    symbol = f\"{symbol}USDT\"\n",
    "\n",
    "    order = client.new_order(symbol=\"BTCUSDT\", quantity=quantity, side='SELL', type='MARKET')\n"
   ]
  },
  {
   "metadata": {},
   "cell_type": "code",
   "outputs": [],
   "execution_count": null,
   "source": [
    "from libs.process import *\n",
    "\n",
    "symbols = 'BTC'\n",
    "start_n_hours_ago = 60\n",
    "balance_unit = 'USDT'\n",
    "first = True\n",
    "bought = True\n",
    "\n",
    "while True:\n",
    "\n",
    "    if (datetime.now().hour % 4 == 0) or first:\n",
    "        df = gather_data(symbols)\n",
    "        states = get_states(df)\n",
    "        print('Current state of the market:')\n",
    "        print(states)\n",
    "        print('\\n')\n",
    "\n",
    "        if states == 'uptrend' and bought == True:\n",
    "            take_buy_order(symbols, 10)\n",
    "            print(\"Bought at price :\", df['close'].iloc[-1])\n",
    "            bought = False\n",
    "        if states == 'downtrend' and bought == False:\n",
    "            take_sell_order(symbols, 10)\n",
    "            print(\"Sold at price :\", df['close'].iloc[-1], \"\\n\")\n",
    "            bought = True\n",
    "        first = False"
   ]
  }
 ],
 "metadata": {
  "kernelspec": {
   "display_name": "Python 3",
   "language": "python",
   "name": "python3"
  },
  "language_info": {
   "codemirror_mode": {
    "name": "ipython",
    "version": 3
   },
   "file_extension": ".py",
   "mimetype": "text/x-python",
   "name": "python",
   "nbconvert_exporter": "python",
   "pygments_lexer": "ipython3",
   "version": "3.10.9"
  }
 },
 "nbformat": 4,
 "nbformat_minor": 0
}
